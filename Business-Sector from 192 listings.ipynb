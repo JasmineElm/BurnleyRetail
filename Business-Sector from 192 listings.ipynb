{
 "cells": [
  {
   "cell_type": "markdown",
   "metadata": {},
   "source": [
    "# Business Analysis based on 192.com listings\n",
    "\n",
    "The following workbook \n",
    "\n",
    "+ takes saved 192.com webpages, \n",
    "+ extracts relevant data, \n",
    "+ removes partial / missing data, and\n",
    "+ saves a csv file of the results, ready for further analysis.\n",
    "\n",
    "## requirements:\n",
    "\n",
    "1 or more html pages saved in the same directory as this notebook (recursive searching not implemented)\n",
    "\n",
    "Successfully tested in Ubuntu 19.04 and Windows 10"
   ]
  },
  {
   "cell_type": "code",
   "execution_count": 1,
   "metadata": {},
   "outputs": [],
   "source": [
    "from bs4 import BeautifulSoup\n",
    "import pandas as pd\n",
    "import numpy as np\n",
    "from os import listdir"
   ]
  },
  {
   "cell_type": "code",
   "execution_count": 2,
   "metadata": {},
   "outputs": [],
   "source": [
    "out_csv='listings.csv'\n",
    "\n",
    "#create a list of all filenames that have an extension of '.'\n",
    "pages = [f for f in listdir('.') if f.split('.')[-1]=='html']"
   ]
  },
  {
   "cell_type": "code",
   "execution_count": 3,
   "metadata": {},
   "outputs": [],
   "source": [
    "listOfLists=[]\n",
    "for page in pages:\n",
    "    soup = BeautifulSoup(open(page).read(), \"html.parser\")\n",
    "    listings  = soup.findAll('li',{}) # *almost* everything in a list is a business\n",
    "    for listing in listings:\n",
    "        innerList=[]\n",
    "        business = listing.find('h3')\n",
    "        sector   = listing.find('div', {'class':'test-ont-business-result-market-sector'})\n",
    "        address  = listing.find('div', {'class':'test-ont-business-result-address'})\n",
    "        if business != None:\n",
    "            innerList.append(business.text)\n",
    "            if sector != None:\n",
    "                innerList.append(sector.text)\n",
    "            if address != None:\n",
    "                innerList.append(address.text)\n",
    "                innerList.append(address.text.split(',')[-1]) # store the postcode separately\n",
    "            listOfLists.append(innerList)\n"
   ]
  },
  {
   "cell_type": "code",
   "execution_count": 4,
   "metadata": {
    "scrolled": true
   },
   "outputs": [
    {
     "name": "stdout",
     "output_type": "stream",
     "text": [
      "(2445, 4)\n"
     ]
    },
    {
     "name": "stderr",
     "output_type": "stream",
     "text": [
      "C:\\Users\\jlemin\\AppData\\Local\\Continuum\\anaconda3\\lib\\site-packages\\ipykernel_launcher.py:19: UserWarning: Boolean Series key will be reindexed to match DataFrame index.\n"
     ]
    },
    {
     "data": {
      "text/plain": [
       "(265, 4)"
      ]
     },
     "execution_count": 4,
     "metadata": {},
     "output_type": "execute_result"
    }
   ],
   "source": [
    "df=pd.DataFrame(listOfLists, columns=[\"Business\", \"Sector\", \"full_addr\", \"Postcode\"])\n",
    "df.to_csv('Temp.csv')\n",
    "print(df.shape)\n",
    "#no duplicates, or blanks\n",
    "df.replace('', np.nan, inplace=True) \n",
    "# data is is 90% empty strings, we can't use partial data, so need to delete it\n",
    "df.drop_duplicates(inplace=True)\n",
    "df.dropna(inplace=True)\n",
    "\n",
    "#BB11 postcodes only\n",
    "burnley_only=df[df['Postcode'].str.contains('BB11')] # blunt, may nneed tweaking.\n",
    "\n",
    "# remove Manufacturers and Suppliers and Headquarters\n",
    "no_s=~df['Sector'].str.contains('Supplier')      #No suppliers\n",
    "no_m=~df['Sector'].str.contains('Manufacture')   #No manufacturers\n",
    "no_h=~df['Business'].str.contains('Headquarters')#No headquarters\n",
    "\n",
    "no_smh=no_s&no_m&no_h\n",
    "cust_only=burnley_only[no_smh]\n",
    "\n",
    "cust_only.shape\n",
    "\n"
   ]
  },
  {
   "cell_type": "code",
   "execution_count": 5,
   "metadata": {},
   "outputs": [],
   "source": [
    "# our index is meaningless now that we have dropped multiple groups of data.  \n",
    "cust_only.to_csv(out_csv, index=False)\n"
   ]
  }
 ],
 "metadata": {
  "kernelspec": {
   "display_name": "Python 3",
   "language": "python",
   "name": "python3"
  },
  "language_info": {
   "codemirror_mode": {
    "name": "ipython",
    "version": 3
   },
   "file_extension": ".py",
   "mimetype": "text/x-python",
   "name": "python",
   "nbconvert_exporter": "python",
   "pygments_lexer": "ipython3",
   "version": "3.7.3"
  }
 },
 "nbformat": 4,
 "nbformat_minor": 2
}
